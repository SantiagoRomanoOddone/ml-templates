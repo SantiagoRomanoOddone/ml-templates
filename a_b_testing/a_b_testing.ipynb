{
  "nbformat": 4,
  "nbformat_minor": 0,
  "metadata": {
    "colab": {
      "provenance": []
    },
    "kernelspec": {
      "name": "python3",
      "display_name": "Python 3"
    },
    "language_info": {
      "name": "python"
    }
  },
  "cells": [
    {
      "cell_type": "code",
      "execution_count": 1,
      "metadata": {
        "colab": {
          "base_uri": "https://localhost:8080/"
        },
        "id": "rw2LMSWrhk72",
        "outputId": "80689ff3-adeb-4472-9565-71040c0275aa"
      },
      "outputs": [
        {
          "output_type": "stream",
          "name": "stdout",
          "text": [
            "Control Conversion Rate: 10.00%\n",
            "Treatment Conversion Rate: 12.00%\n",
            "Z-statistic: -1.43\n",
            "P-value: 0.9235\n",
            "Fail to reject the null hypothesis: No significant difference between Version A and Version B.\n"
          ]
        }
      ],
      "source": [
        "import numpy as np\n",
        "import scipy.stats as stats\n",
        "\n",
        "# Simulated data\n",
        "np.random.seed(42)\n",
        "# Control group (Version A): 1000 visitors, 100 conversions\n",
        "control_conversions = 100\n",
        "control_visitors = 1000\n",
        "\n",
        "# Treatment group (Version B): 1000 visitors, 120 conversions\n",
        "treatment_conversions = 120\n",
        "treatment_visitors = 1000\n",
        "\n",
        "# Calculate conversion rates\n",
        "control_rate = control_conversions / control_visitors\n",
        "treatment_rate = treatment_conversions / treatment_visitors\n",
        "\n",
        "print(f\"Control Conversion Rate: {control_rate:.2%}\")\n",
        "print(f\"Treatment Conversion Rate: {treatment_rate:.2%}\")\n",
        "\n",
        "# Perform a two-proportion z-test\n",
        "from statsmodels.stats.proportion import proportions_ztest\n",
        "\n",
        "# Define counts and sample sizes\n",
        "count = np.array([control_conversions, treatment_conversions])\n",
        "nobs = np.array([control_visitors, treatment_visitors])\n",
        "\n",
        "# Perform the test\n",
        "z_stat, p_value = proportions_ztest(count, nobs, alternative='larger')\n",
        "\n",
        "print(f\"Z-statistic: {z_stat:.2f}\")\n",
        "print(f\"P-value: {p_value:.4f}\")\n",
        "\n",
        "# Interpret the results\n",
        "if p_value < 0.05:\n",
        "    print(\"Reject the null hypothesis: Version B has a statistically significant higher conversion rate.\")\n",
        "else:\n",
        "    print(\"Fail to reject the null hypothesis: No significant difference between Version A and Version B.\")"
      ]
    },
    {
      "cell_type": "code",
      "source": [],
      "metadata": {
        "id": "CfHFs8MWhuRM"
      },
      "execution_count": null,
      "outputs": []
    }
  ]
}