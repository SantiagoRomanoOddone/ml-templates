{
  "nbformat": 4,
  "nbformat_minor": 0,
  "metadata": {
    "colab": {
      "provenance": []
    },
    "kernelspec": {
      "name": "python3",
      "display_name": "Python 3"
    },
    "language_info": {
      "name": "python"
    }
  },
  "cells": [
    {
      "cell_type": "code",
      "source": [
        "import numpy as np\n",
        "from statsmodels.stats.proportion import proportions_ztest\n",
        "\n",
        "# Data for A/B Test\n",
        "control_conversions = 100\n",
        "control_visitors = 1000\n",
        "treatment_conversions = 140\n",
        "treatment_visitors = 1000\n",
        "\n",
        "# Conversion Rates\n",
        "control_rate = control_conversions / control_visitors\n",
        "treatment_rate = treatment_conversions / treatment_visitors\n",
        "\n",
        "print(f\"Control Conversion Rate: {control_rate:.2%}\")\n",
        "print(f\"Treatment Conversion Rate: {treatment_rate:.2%}\")\n",
        "\n",
        "# Hypotheses:\n",
        "# Null Hypothesis (H₀): There is no difference between the conversion rates of Version A (control) and Version B (treatment).\n",
        "# H₀: Conversion Rate of B <= Conversion Rate of A\n",
        "# Alternative Hypothesis (H₁): Version B has a higher conversion rate than Version A.\n",
        "# H₁: Conversion Rate of B > Conversion Rate of A\n",
        "\n",
        "# Define counts and sample sizes for the two groups\n",
        "count = np.array([treatment_conversions, control_conversions])  # Order: B (treatment) first, then A (control)\n",
        "nobs = np.array([treatment_visitors, control_visitors])  # Number of visitors for each group\n",
        "\n",
        "# Perform two-proportion z-test (testing if B > A)\n",
        "z_stat, p_value = proportions_ztest(count, nobs, alternative='larger')\n",
        "\n",
        "print(f\"Z-statistic: {z_stat:.2f}\")\n",
        "print(f\"P-value: {p_value:.4f}\")\n",
        "\n",
        "# Interpret the results\n",
        "if p_value < 0.05:\n",
        "    print(\"✅ Version B is significantly better!\")\n",
        "else:\n",
        "    print(\"❌ No significant difference between A and B.\")\n",
        "\n",
        "\n"
      ],
      "metadata": {
        "colab": {
          "base_uri": "https://localhost:8080/"
        },
        "id": "CfHFs8MWhuRM",
        "outputId": "e505871c-fb7f-49b7-bf7e-29d1834fa809"
      },
      "execution_count": 10,
      "outputs": [
        {
          "output_type": "stream",
          "name": "stdout",
          "text": [
            "Control Conversion Rate: 10.00%\n",
            "Treatment Conversion Rate: 14.00%\n",
            "Z-statistic: 2.75\n",
            "P-value: 0.0030\n",
            "✅ Version B is significantly better!\n"
          ]
        }
      ]
    },
    {
      "cell_type": "code",
      "source": [],
      "metadata": {
        "id": "6l5PJiuSl1kL"
      },
      "execution_count": null,
      "outputs": []
    }
  ]
}